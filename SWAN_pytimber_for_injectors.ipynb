{
 "cells": [
  {
   "cell_type": "markdown",
   "metadata": {},
   "source": [
    "<hr style=\"border-top-width: 4px; border-top-color: #34609b;\">\n",
    "# Using pytimber with pandas \n",
    "\n",
    "Ideally the main parameters of the CERN Accelerator complex (settings and acquisitions) are stored in CALS (CERN Accelerator Logging System,https://be-dep-co.web.cern.ch/content/cals-cern-accelerator-logging-service) for long term (LDB) or short term (MDB, 3 months presently (July, 2017)).\n",
    "\n",
    "A new CALS platform is presently under devolpment (NXCALS).\n",
    "\n",
    "A good strategy for the MD community is to ask to complete the present logging adding additional variables if needed (typically in the MDB). In this way one does not need to setup manual logging sessions.\n",
    "Each machine should have a OP-CALS link person (e.g., O. Hans for the PS).\n",
    "\n",
    "CALS can be queried from the internet or GPN (General Purpose Network) using SWAN (Service for Web-based ANalysis, https://swan.web.cern.ch/). It is important to note that SWAN is not available (July, 2017) in the TN (Technical Network).\n",
    "\n",
    "To log manually parameters (e.g., not already present in CALS) one can use different approaches (Matlab, Python, Mathematica, see Scripting Tool on the wikis https://wikis.cern.ch/display/ST/Scripting+Tools+Home). In addition to the logging, a similar approach can be extended to modify the machine setting (provided a valid the RBAC token if requested).\n",
    "\n",
    "In the following we will show some example on how to use pyTIMBER together with pandas dataframe. Before doind that,  we would like to comment of the difference between cycleStamp and acquisitionStamp.\n",
    "\n",
    "Fundamentaly CALS is logging series in the 2 columns format (times, values).\n",
    "The time can be the timestamp of the cycle related to that acquisition (cycleStamp) or the acquisitionStamp.\n",
    "For the Injector Complex is much more convenient to log in cycleStamp because this allows to compare quantities related to the same cycle. In general is not interesting to compare observation related to different cycles even if their acquisition stamp is very close.\n",
    "In machine with very long cycle (LHC) this cycleStamp concept is not interesting anymore. In other words, we can say that the cycleStamp is useful only if the machine is intrinsecally PPM. In  PPM machines one can extract data from CALS by fundamentals filters. This feature is not very attractive for LHC.\n",
    "\n",
    "As we will see, these observations will have a strong impact on how the pandas dataframe will be organized. For instance, if we want to extend an existing dataframe with an additional variable, this is somehow trivial for LHC, but for the other machines we should maintain syncronization to the same cycleStamps. It is important to observe that the cyclestamps between different cycle in teh same machine or between machines have fixed time offset. One could use a sort of arithmetic of the cycleStamp to follow the same beams in the different machine of the injectors complex or to investigate the effect of SC composition on the beam performance of machine.\n",
    "\n",
    "\n",
    "\n",
    "\n",
    "## JAPC  and pyJAPC\n",
    "This is the JAVA API for Parameters Control.\n",
    "See the presentation W. Sliwinski on https://indico.cern.ch/event/404646/.\n",
    "\n",
    "BE-CO chose to have a JAVA API for control the machine parameters. On the other hand JAVA is not very well suited for scientific computing without a major effort (at least in our opinion). Indeed MATLAB is based on JAVA but is not open source. A first succesful attempt to GET/SET/SUBSCRIBE in MATLAB was in the past within the CTF3 community (main contributor is D. Gamba). More recently a similar approach was  adopted for python (pyJAPC by T. Levens and M. Betz). In parallel R. De Maria developped pyTIMBER (to access CALS) and pyLSA (together with M. Hostettler). In addition pyLogbook was developped by S. Gessner. These tools naturally complete the JMAD package and all the python code developped in BE-ABP (pyHEADTAIL, pyECOUD,...).\n",
    "\n",
    "We will describe in future how to use pyJAPC and pyLSA respectively to GET the CALS data, to GET/SET/SUBSCRIBE data from/to the HW (or the last settings of the LSA database), to GET the historical trims in LSA.\n"
   ]
  },
  {
   "cell_type": "markdown",
   "metadata": {},
   "source": [
    "<hr style=\"border-top-width: 4px; border-top-color: #34609b;\">\n",
    "\n",
    "# Let us start\n",
    "\n"
   ]
  },
  {
   "cell_type": "code",
   "execution_count": 1,
   "metadata": {
    "collapsed": false
   },
   "outputs": [
    {
     "name": "stdout",
     "output_type": "stream",
     "text": [
      "Version 0.03. This is the latest version.\n",
      "Please help me to improve it reporting bugs to guido.sterbini@cern.ch.\n",
      "Your platform is Linux-3.10.0-514.10.2.el7.x86_64-x86_64-with-redhat-6.7-Carbon\n",
      "Your folder is /eos/user/s/sterbini/MD_ANALYSIS\n",
      "Your IP is 172.17.0.2\n",
      "2017-07-24 09:30:06\n"
     ]
    }
   ],
   "source": [
    "import sys\n",
    "sys.path.append('/eos/user/s/sterbini/MD_ANALYSIS/public/')\n",
    "from myToolbox import *"
   ]
  },
  {
   "cell_type": "code",
   "execution_count": null,
   "metadata": {
    "collapsed": true
   },
   "outputs": [],
   "source": []
  },
  {
   "cell_type": "markdown",
   "metadata": {},
   "source": [
    "<hr style=\"border-top-width: 4px; border-top-color: #34609b;\">\n",
    "\n",
    "# Example  1\n",
    "Let us assume that you start to download some raw data from CALS. Here I decided to download some  variables recorded by acqStamp and some others by cycleStamp from the S. The fundamental filtering makes sense only on the variable recorded by cycleStamp."
   ]
  },
  {
   "cell_type": "code",
   "execution_count": 2,
   "metadata": {
    "collapsed": false
   },
   "outputs": [
    {
     "name": "stdout",
     "output_type": "stream",
     "text": [
      "[u'PE.TPS15.359.CONTROLLER:ANGLE', u'PE.TPS15.359.CONTROLLER:DS_POS', u'PE.TPS15.359.CONTROLLER:STATE', u'PE.TPS15.359.CONTROLLER:US_POS']\n",
      "[u'CPS.TGM:BATCH', u'CPS.TGM:BEAMID', u'CPS.TGM:BPNM', u'CPS.TGM:CYCLE', u'CPS.TGM:DEST', u'CPS.TGM:DEST2', u'CPS.TGM:DURN', u'CPS.TGM:HARMN', u'CPS.TGM:MISC', u'CPS.TGM:MISC_A', u'CPS.TGM:PARTY', u'CPS.TGM:SCNUM', u'CPS.TGM:SCTAG', u'CPS.TGM:SPCON', u'CPS.TGM:USER']\n"
     ]
    }
   ],
   "source": [
    "# Heavily using pyTimber we get the variable\n",
    "varSet1=log.search('%TPS15%') #recorded by acqStamp since is not PPM\n",
    "varSet2=log.search('CPS.TGM%')#recorded by cyclestamp\n",
    "print(varSet1) # just to show what is inside\n",
    "print(varSet2) # just to show what is inside"
   ]
  },
  {
   "cell_type": "code",
   "execution_count": 3,
   "metadata": {
    "collapsed": true
   },
   "outputs": [],
   "source": [
    "extractFromTime=myToolbox.time_1_hour_ago(hours=2)\n",
    "extractToTime=myToolbox.time_1_hour_ago(hours=1)\n",
    "# Heavily using PANDAS \n",
    "# we cannot use the fundamental (recorded by acqStamp)! \n",
    "myDataFrame1=myToolbox.cals2pnd(varSet1,extractFromTime,extractToTime)\n",
    "# we can use the fundamental\n",
    "myDataFrame2=myToolbox.cals2pnd(varSet2,extractFromTime,extractToTime,fundamental='%TOF')"
   ]
  },
  {
   "cell_type": "code",
   "execution_count": 4,
   "metadata": {
    "collapsed": false
   },
   "outputs": [],
   "source": [
    "# Now I can merge and create a postprocessing DF\n",
    "\n",
    "rawDF=myToolbox.mergeDF(myDataFrame1,myDataFrame2)\n",
    "\n",
    "#eventually I can define a postprocessing\n",
    "def postprocess(df):\n",
    "    aux=pnd.DataFrame()\n",
    "    aux['PE.TPS15.359.CONTROLLER:ANGLE filled']= df['PE.TPS15.359.CONTROLLER:ANGLE'].ffill()\n",
    "    aux['PE.TPS15.359.CONTROLLER:ANGLE filled, doubled']= aux['PE.TPS15.359.CONTROLLER:ANGLE filled']*2+1\n",
    "    return aux;\n",
    "\n",
    "postDF=postprocess(rawDF)\n",
    "\n",
    "#I suggest not to merge the rawDF with the postDF, this will allow to extend the raw."
   ]
  },
  {
   "cell_type": "code",
   "execution_count": 5,
   "metadata": {
    "collapsed": false
   },
   "outputs": [],
   "source": [
    "# starting from the original DF is trivial now to extend them. \n",
    "# It is important to note that the we have somehow to remember that the second DF needs a fundamental filter\n",
    "myDataFrame1=myToolbox.cals2pnd(myDataFrame1.columns,rawDF.index[-1],\n",
    "                                rawDF.index[-1]+datetime.timedelta(hours=1))\n",
    "myDataFrame2=myToolbox.cals2pnd(myDataFrame2.columns,rawDF.index[-1],\n",
    "                                rawDF.index[-1]+datetime.timedelta(hours=1),\n",
    "                                fundamental='%TOF')"
   ]
  },
  {
   "cell_type": "code",
   "execution_count": 6,
   "metadata": {
    "collapsed": false
   },
   "outputs": [],
   "source": [
    "# and now we can iterate with the merging\n",
    "aux=myToolbox.mergeDF(myDataFrame1,myDataFrame2)\n",
    "\n",
    "# and with the concatenation\n",
    "rawDF=myToolbox.concatDF(rawDF,aux)\n",
    "postDF=myToolbox.concatDF(postDF,postprocess(aux))\n",
    "\n",
    "# we suggest to maintain well separated the raw data, postprocessing functions and postprocessed data. "
   ]
  },
  {
   "cell_type": "code",
   "execution_count": 7,
   "metadata": {
    "collapsed": false
   },
   "outputs": [
    {
     "data": {
      "text/html": [
       "<div>\n",
       "<table border=\"1\" class=\"dataframe\">\n",
       "  <thead>\n",
       "    <tr style=\"text-align: right;\">\n",
       "      <th></th>\n",
       "      <th>CPS.TGM:BATCH</th>\n",
       "      <th>CPS.TGM:BEAMID</th>\n",
       "      <th>CPS.TGM:BPNM</th>\n",
       "      <th>CPS.TGM:CYCLE</th>\n",
       "      <th>CPS.TGM:DEST</th>\n",
       "      <th>CPS.TGM:DEST2</th>\n",
       "      <th>CPS.TGM:DURN</th>\n",
       "      <th>CPS.TGM:HARMN</th>\n",
       "      <th>CPS.TGM:MISC</th>\n",
       "      <th>CPS.TGM:MISC_A</th>\n",
       "      <th>CPS.TGM:PARTY</th>\n",
       "      <th>CPS.TGM:SCNUM</th>\n",
       "      <th>CPS.TGM:SCTAG</th>\n",
       "      <th>CPS.TGM:SPCON</th>\n",
       "      <th>CPS.TGM:USER</th>\n",
       "      <th>PE.TPS15.359.CONTROLLER:ANGLE</th>\n",
       "      <th>PE.TPS15.359.CONTROLLER:DS_POS</th>\n",
       "      <th>PE.TPS15.359.CONTROLLER:STATE</th>\n",
       "      <th>PE.TPS15.359.CONTROLLER:US_POS</th>\n",
       "    </tr>\n",
       "  </thead>\n",
       "  <tbody>\n",
       "    <tr>\n",
       "      <th>2017-07-18 09:09:59.500</th>\n",
       "      <td>0.0</td>\n",
       "      <td>44213.0</td>\n",
       "      <td>29.0</td>\n",
       "      <td>24.0</td>\n",
       "      <td>NTOF</td>\n",
       "      <td>NONE</td>\n",
       "      <td>1.0</td>\n",
       "      <td>NaN</td>\n",
       "      <td>[F_EJ16]</td>\n",
       "      <td>[START_CY]</td>\n",
       "      <td>PROTON</td>\n",
       "      <td>1.0</td>\n",
       "      <td>768.0</td>\n",
       "      <td>[NEW_SC]</td>\n",
       "      <td>TOF</td>\n",
       "      <td>NaN</td>\n",
       "      <td>NaN</td>\n",
       "      <td>NaN</td>\n",
       "      <td>NaN</td>\n",
       "    </tr>\n",
       "    <tr>\n",
       "      <th>2017-07-18 09:10:03.100</th>\n",
       "      <td>0.0</td>\n",
       "      <td>44213.0</td>\n",
       "      <td>32.0</td>\n",
       "      <td>26.0</td>\n",
       "      <td>NTOF</td>\n",
       "      <td>NONE</td>\n",
       "      <td>1.0</td>\n",
       "      <td>NaN</td>\n",
       "      <td>[F_EJ16]</td>\n",
       "      <td>[START_CY]</td>\n",
       "      <td>PROTON</td>\n",
       "      <td>1.0</td>\n",
       "      <td>768.0</td>\n",
       "      <td>[NEW_SC]</td>\n",
       "      <td>TOF</td>\n",
       "      <td>NaN</td>\n",
       "      <td>NaN</td>\n",
       "      <td>NaN</td>\n",
       "      <td>NaN</td>\n",
       "    </tr>\n",
       "    <tr>\n",
       "      <th>2017-07-18 09:10:07.900</th>\n",
       "      <td>0.0</td>\n",
       "      <td>44213.0</td>\n",
       "      <td>36.0</td>\n",
       "      <td>30.0</td>\n",
       "      <td>NTOF</td>\n",
       "      <td>NONE</td>\n",
       "      <td>1.0</td>\n",
       "      <td>NaN</td>\n",
       "      <td>[F_EJ16]</td>\n",
       "      <td>[START_CY]</td>\n",
       "      <td>PROTON</td>\n",
       "      <td>1.0</td>\n",
       "      <td>768.0</td>\n",
       "      <td>[NEW_SC]</td>\n",
       "      <td>TOF</td>\n",
       "      <td>NaN</td>\n",
       "      <td>NaN</td>\n",
       "      <td>NaN</td>\n",
       "      <td>NaN</td>\n",
       "    </tr>\n",
       "    <tr>\n",
       "      <th>2017-07-18 09:10:24.700</th>\n",
       "      <td>0.0</td>\n",
       "      <td>44213.0</td>\n",
       "      <td>12.0</td>\n",
       "      <td>11.0</td>\n",
       "      <td>NTOF</td>\n",
       "      <td>NONE</td>\n",
       "      <td>1.0</td>\n",
       "      <td>NaN</td>\n",
       "      <td>[F_EJ16]</td>\n",
       "      <td>[START_CY]</td>\n",
       "      <td>PROTON</td>\n",
       "      <td>2.0</td>\n",
       "      <td>768.0</td>\n",
       "      <td>[NORMAL]</td>\n",
       "      <td>TOF</td>\n",
       "      <td>NaN</td>\n",
       "      <td>NaN</td>\n",
       "      <td>NaN</td>\n",
       "      <td>NaN</td>\n",
       "    </tr>\n",
       "    <tr>\n",
       "      <th>2017-07-18 09:10:29.500</th>\n",
       "      <td>0.0</td>\n",
       "      <td>44213.0</td>\n",
       "      <td>16.0</td>\n",
       "      <td>14.0</td>\n",
       "      <td>NTOF</td>\n",
       "      <td>NONE</td>\n",
       "      <td>1.0</td>\n",
       "      <td>NaN</td>\n",
       "      <td>[F_EJ16]</td>\n",
       "      <td>[START_CY]</td>\n",
       "      <td>PROTON</td>\n",
       "      <td>2.0</td>\n",
       "      <td>768.0</td>\n",
       "      <td>[NORMAL]</td>\n",
       "      <td>TOF</td>\n",
       "      <td>NaN</td>\n",
       "      <td>NaN</td>\n",
       "      <td>NaN</td>\n",
       "      <td>NaN</td>\n",
       "    </tr>\n",
       "  </tbody>\n",
       "</table>\n",
       "</div>"
      ],
      "text/plain": [
       "                         CPS.TGM:BATCH  CPS.TGM:BEAMID  CPS.TGM:BPNM  \\\n",
       "2017-07-18 09:09:59.500            0.0         44213.0          29.0   \n",
       "2017-07-18 09:10:03.100            0.0         44213.0          32.0   \n",
       "2017-07-18 09:10:07.900            0.0         44213.0          36.0   \n",
       "2017-07-18 09:10:24.700            0.0         44213.0          12.0   \n",
       "2017-07-18 09:10:29.500            0.0         44213.0          16.0   \n",
       "\n",
       "                         CPS.TGM:CYCLE CPS.TGM:DEST CPS.TGM:DEST2  \\\n",
       "2017-07-18 09:09:59.500           24.0         NTOF          NONE   \n",
       "2017-07-18 09:10:03.100           26.0         NTOF          NONE   \n",
       "2017-07-18 09:10:07.900           30.0         NTOF          NONE   \n",
       "2017-07-18 09:10:24.700           11.0         NTOF          NONE   \n",
       "2017-07-18 09:10:29.500           14.0         NTOF          NONE   \n",
       "\n",
       "                         CPS.TGM:DURN  CPS.TGM:HARMN CPS.TGM:MISC  \\\n",
       "2017-07-18 09:09:59.500           1.0            NaN     [F_EJ16]   \n",
       "2017-07-18 09:10:03.100           1.0            NaN     [F_EJ16]   \n",
       "2017-07-18 09:10:07.900           1.0            NaN     [F_EJ16]   \n",
       "2017-07-18 09:10:24.700           1.0            NaN     [F_EJ16]   \n",
       "2017-07-18 09:10:29.500           1.0            NaN     [F_EJ16]   \n",
       "\n",
       "                        CPS.TGM:MISC_A CPS.TGM:PARTY  CPS.TGM:SCNUM  \\\n",
       "2017-07-18 09:09:59.500     [START_CY]        PROTON            1.0   \n",
       "2017-07-18 09:10:03.100     [START_CY]        PROTON            1.0   \n",
       "2017-07-18 09:10:07.900     [START_CY]        PROTON            1.0   \n",
       "2017-07-18 09:10:24.700     [START_CY]        PROTON            2.0   \n",
       "2017-07-18 09:10:29.500     [START_CY]        PROTON            2.0   \n",
       "\n",
       "                         CPS.TGM:SCTAG CPS.TGM:SPCON CPS.TGM:USER  \\\n",
       "2017-07-18 09:09:59.500          768.0      [NEW_SC]          TOF   \n",
       "2017-07-18 09:10:03.100          768.0      [NEW_SC]          TOF   \n",
       "2017-07-18 09:10:07.900          768.0      [NEW_SC]          TOF   \n",
       "2017-07-18 09:10:24.700          768.0      [NORMAL]          TOF   \n",
       "2017-07-18 09:10:29.500          768.0      [NORMAL]          TOF   \n",
       "\n",
       "                         PE.TPS15.359.CONTROLLER:ANGLE  \\\n",
       "2017-07-18 09:09:59.500                            NaN   \n",
       "2017-07-18 09:10:03.100                            NaN   \n",
       "2017-07-18 09:10:07.900                            NaN   \n",
       "2017-07-18 09:10:24.700                            NaN   \n",
       "2017-07-18 09:10:29.500                            NaN   \n",
       "\n",
       "                         PE.TPS15.359.CONTROLLER:DS_POS  \\\n",
       "2017-07-18 09:09:59.500                             NaN   \n",
       "2017-07-18 09:10:03.100                             NaN   \n",
       "2017-07-18 09:10:07.900                             NaN   \n",
       "2017-07-18 09:10:24.700                             NaN   \n",
       "2017-07-18 09:10:29.500                             NaN   \n",
       "\n",
       "                         PE.TPS15.359.CONTROLLER:STATE  \\\n",
       "2017-07-18 09:09:59.500                            NaN   \n",
       "2017-07-18 09:10:03.100                            NaN   \n",
       "2017-07-18 09:10:07.900                            NaN   \n",
       "2017-07-18 09:10:24.700                            NaN   \n",
       "2017-07-18 09:10:29.500                            NaN   \n",
       "\n",
       "                         PE.TPS15.359.CONTROLLER:US_POS  \n",
       "2017-07-18 09:09:59.500                             NaN  \n",
       "2017-07-18 09:10:03.100                             NaN  \n",
       "2017-07-18 09:10:07.900                             NaN  \n",
       "2017-07-18 09:10:24.700                             NaN  \n",
       "2017-07-18 09:10:29.500                             NaN  "
      ]
     },
     "execution_count": 7,
     "metadata": {},
     "output_type": "execute_result"
    }
   ],
   "source": [
    "# print the dataFrame head\n",
    "rawDF.head()"
   ]
  },
  {
   "cell_type": "code",
   "execution_count": 8,
   "metadata": {
    "collapsed": false
   },
   "outputs": [
    {
     "data": {
      "text/html": [
       "<div>\n",
       "<table border=\"1\" class=\"dataframe\">\n",
       "  <thead>\n",
       "    <tr style=\"text-align: right;\">\n",
       "      <th></th>\n",
       "      <th>PE.TPS15.359.CONTROLLER:ANGLE filled</th>\n",
       "      <th>PE.TPS15.359.CONTROLLER:ANGLE filled, doubled</th>\n",
       "    </tr>\n",
       "  </thead>\n",
       "  <tbody>\n",
       "    <tr>\n",
       "      <th>count</th>\n",
       "      <td>332.0</td>\n",
       "      <td>332.0</td>\n",
       "    </tr>\n",
       "    <tr>\n",
       "      <th>mean</th>\n",
       "      <td>0.0</td>\n",
       "      <td>1.0</td>\n",
       "    </tr>\n",
       "    <tr>\n",
       "      <th>std</th>\n",
       "      <td>0.0</td>\n",
       "      <td>0.0</td>\n",
       "    </tr>\n",
       "    <tr>\n",
       "      <th>min</th>\n",
       "      <td>0.0</td>\n",
       "      <td>1.0</td>\n",
       "    </tr>\n",
       "    <tr>\n",
       "      <th>25%</th>\n",
       "      <td>0.0</td>\n",
       "      <td>1.0</td>\n",
       "    </tr>\n",
       "    <tr>\n",
       "      <th>50%</th>\n",
       "      <td>0.0</td>\n",
       "      <td>1.0</td>\n",
       "    </tr>\n",
       "    <tr>\n",
       "      <th>75%</th>\n",
       "      <td>0.0</td>\n",
       "      <td>1.0</td>\n",
       "    </tr>\n",
       "    <tr>\n",
       "      <th>max</th>\n",
       "      <td>0.0</td>\n",
       "      <td>1.0</td>\n",
       "    </tr>\n",
       "  </tbody>\n",
       "</table>\n",
       "</div>"
      ],
      "text/plain": [
       "       PE.TPS15.359.CONTROLLER:ANGLE filled  \\\n",
       "count                                 332.0   \n",
       "mean                                    0.0   \n",
       "std                                     0.0   \n",
       "min                                     0.0   \n",
       "25%                                     0.0   \n",
       "50%                                     0.0   \n",
       "75%                                     0.0   \n",
       "max                                     0.0   \n",
       "\n",
       "       PE.TPS15.359.CONTROLLER:ANGLE filled, doubled  \n",
       "count                                          332.0  \n",
       "mean                                             1.0  \n",
       "std                                              0.0  \n",
       "min                                              1.0  \n",
       "25%                                              1.0  \n",
       "50%                                              1.0  \n",
       "75%                                              1.0  \n",
       "max                                              1.0  "
      ]
     },
     "execution_count": 8,
     "metadata": {},
     "output_type": "execute_result"
    }
   ],
   "source": [
    "# describe the dataFrame\n",
    "postDF.describe()"
   ]
  },
  {
   "cell_type": "code",
   "execution_count": 9,
   "metadata": {
    "collapsed": false
   },
   "outputs": [
    {
     "data": {
      "text/html": [
       "<div>\n",
       "<table border=\"1\" class=\"dataframe\">\n",
       "  <thead>\n",
       "    <tr style=\"text-align: right;\">\n",
       "      <th></th>\n",
       "      <th>CPS.TGM:USER</th>\n",
       "      <th>CPS.TGM:DEST</th>\n",
       "    </tr>\n",
       "  </thead>\n",
       "  <tbody>\n",
       "    <tr>\n",
       "      <th>2017-07-18 09:09:59.500</th>\n",
       "      <td>TOF</td>\n",
       "      <td>NTOF</td>\n",
       "    </tr>\n",
       "    <tr>\n",
       "      <th>2017-07-18 09:10:03.100</th>\n",
       "      <td>TOF</td>\n",
       "      <td>NTOF</td>\n",
       "    </tr>\n",
       "    <tr>\n",
       "      <th>2017-07-18 09:10:07.900</th>\n",
       "      <td>TOF</td>\n",
       "      <td>NTOF</td>\n",
       "    </tr>\n",
       "    <tr>\n",
       "      <th>2017-07-18 09:10:24.700</th>\n",
       "      <td>TOF</td>\n",
       "      <td>NTOF</td>\n",
       "    </tr>\n",
       "    <tr>\n",
       "      <th>2017-07-18 09:10:29.500</th>\n",
       "      <td>TOF</td>\n",
       "      <td>NTOF</td>\n",
       "    </tr>\n",
       "  </tbody>\n",
       "</table>\n",
       "</div>"
      ],
      "text/plain": [
       "                        CPS.TGM:USER CPS.TGM:DEST\n",
       "2017-07-18 09:09:59.500          TOF         NTOF\n",
       "2017-07-18 09:10:03.100          TOF         NTOF\n",
       "2017-07-18 09:10:07.900          TOF         NTOF\n",
       "2017-07-18 09:10:24.700          TOF         NTOF\n",
       "2017-07-18 09:10:29.500          TOF         NTOF"
      ]
     },
     "execution_count": 9,
     "metadata": {},
     "output_type": "execute_result"
    }
   ],
   "source": [
    "# extract one column as a series\n",
    "rawDF[['CPS.TGM:USER','CPS.TGM:DEST']].head()"
   ]
  },
  {
   "cell_type": "code",
   "execution_count": 10,
   "metadata": {
    "collapsed": false
   },
   "outputs": [
    {
     "data": {
      "text/html": [
       "<div>\n",
       "<table border=\"1\" class=\"dataframe\">\n",
       "  <thead>\n",
       "    <tr style=\"text-align: right;\">\n",
       "      <th></th>\n",
       "      <th>CPS.TGM:BATCH</th>\n",
       "      <th>CPS.TGM:BEAMID</th>\n",
       "      <th>CPS.TGM:BPNM</th>\n",
       "      <th>CPS.TGM:CYCLE</th>\n",
       "      <th>CPS.TGM:DEST</th>\n",
       "      <th>CPS.TGM:DEST2</th>\n",
       "      <th>CPS.TGM:DURN</th>\n",
       "      <th>CPS.TGM:HARMN</th>\n",
       "      <th>CPS.TGM:MISC</th>\n",
       "      <th>CPS.TGM:MISC_A</th>\n",
       "      <th>CPS.TGM:PARTY</th>\n",
       "      <th>CPS.TGM:SCNUM</th>\n",
       "      <th>CPS.TGM:SCTAG</th>\n",
       "      <th>CPS.TGM:SPCON</th>\n",
       "      <th>CPS.TGM:USER</th>\n",
       "      <th>PE.TPS15.359.CONTROLLER:ANGLE</th>\n",
       "      <th>PE.TPS15.359.CONTROLLER:DS_POS</th>\n",
       "      <th>PE.TPS15.359.CONTROLLER:STATE</th>\n",
       "      <th>PE.TPS15.359.CONTROLLER:US_POS</th>\n",
       "    </tr>\n",
       "  </thead>\n",
       "  <tbody>\n",
       "    <tr>\n",
       "      <th>2017-07-18 09:10:24.700</th>\n",
       "      <td>0.0</td>\n",
       "      <td>44213.0</td>\n",
       "      <td>12.0</td>\n",
       "      <td>11.0</td>\n",
       "      <td>NTOF</td>\n",
       "      <td>NONE</td>\n",
       "      <td>1.0</td>\n",
       "      <td>NaN</td>\n",
       "      <td>[F_EJ16]</td>\n",
       "      <td>[START_CY]</td>\n",
       "      <td>PROTON</td>\n",
       "      <td>2.0</td>\n",
       "      <td>768.0</td>\n",
       "      <td>[NORMAL]</td>\n",
       "      <td>TOF</td>\n",
       "      <td>NaN</td>\n",
       "      <td>NaN</td>\n",
       "      <td>NaN</td>\n",
       "      <td>NaN</td>\n",
       "    </tr>\n",
       "    <tr>\n",
       "      <th>2017-07-18 09:10:29.500</th>\n",
       "      <td>0.0</td>\n",
       "      <td>44213.0</td>\n",
       "      <td>16.0</td>\n",
       "      <td>14.0</td>\n",
       "      <td>NTOF</td>\n",
       "      <td>NONE</td>\n",
       "      <td>1.0</td>\n",
       "      <td>NaN</td>\n",
       "      <td>[F_EJ16]</td>\n",
       "      <td>[START_CY]</td>\n",
       "      <td>PROTON</td>\n",
       "      <td>2.0</td>\n",
       "      <td>768.0</td>\n",
       "      <td>[NORMAL]</td>\n",
       "      <td>TOF</td>\n",
       "      <td>NaN</td>\n",
       "      <td>NaN</td>\n",
       "      <td>NaN</td>\n",
       "      <td>NaN</td>\n",
       "    </tr>\n",
       "  </tbody>\n",
       "</table>\n",
       "</div>"
      ],
      "text/plain": [
       "                         CPS.TGM:BATCH  CPS.TGM:BEAMID  CPS.TGM:BPNM  \\\n",
       "2017-07-18 09:10:24.700            0.0         44213.0          12.0   \n",
       "2017-07-18 09:10:29.500            0.0         44213.0          16.0   \n",
       "\n",
       "                         CPS.TGM:CYCLE CPS.TGM:DEST CPS.TGM:DEST2  \\\n",
       "2017-07-18 09:10:24.700           11.0         NTOF          NONE   \n",
       "2017-07-18 09:10:29.500           14.0         NTOF          NONE   \n",
       "\n",
       "                         CPS.TGM:DURN  CPS.TGM:HARMN CPS.TGM:MISC  \\\n",
       "2017-07-18 09:10:24.700           1.0            NaN     [F_EJ16]   \n",
       "2017-07-18 09:10:29.500           1.0            NaN     [F_EJ16]   \n",
       "\n",
       "                        CPS.TGM:MISC_A CPS.TGM:PARTY  CPS.TGM:SCNUM  \\\n",
       "2017-07-18 09:10:24.700     [START_CY]        PROTON            2.0   \n",
       "2017-07-18 09:10:29.500     [START_CY]        PROTON            2.0   \n",
       "\n",
       "                         CPS.TGM:SCTAG CPS.TGM:SPCON CPS.TGM:USER  \\\n",
       "2017-07-18 09:10:24.700          768.0      [NORMAL]          TOF   \n",
       "2017-07-18 09:10:29.500          768.0      [NORMAL]          TOF   \n",
       "\n",
       "                         PE.TPS15.359.CONTROLLER:ANGLE  \\\n",
       "2017-07-18 09:10:24.700                            NaN   \n",
       "2017-07-18 09:10:29.500                            NaN   \n",
       "\n",
       "                         PE.TPS15.359.CONTROLLER:DS_POS  \\\n",
       "2017-07-18 09:10:24.700                             NaN   \n",
       "2017-07-18 09:10:29.500                             NaN   \n",
       "\n",
       "                         PE.TPS15.359.CONTROLLER:STATE  \\\n",
       "2017-07-18 09:10:24.700                            NaN   \n",
       "2017-07-18 09:10:29.500                            NaN   \n",
       "\n",
       "                         PE.TPS15.359.CONTROLLER:US_POS  \n",
       "2017-07-18 09:10:24.700                             NaN  \n",
       "2017-07-18 09:10:29.500                             NaN  "
      ]
     },
     "execution_count": 10,
     "metadata": {},
     "output_type": "execute_result"
    }
   ],
   "source": [
    "# extract the fourth and fifth rows\n",
    "rawDF.iloc[3:5]"
   ]
  },
  {
   "cell_type": "code",
   "execution_count": 11,
   "metadata": {
    "collapsed": false
   },
   "outputs": [
    {
     "data": {
      "text/html": [
       "<div>\n",
       "<table border=\"1\" class=\"dataframe\">\n",
       "  <thead>\n",
       "    <tr style=\"text-align: right;\">\n",
       "      <th></th>\n",
       "      <th>CPS.TGM:BATCH</th>\n",
       "      <th>CPS.TGM:BEAMID</th>\n",
       "      <th>CPS.TGM:BPNM</th>\n",
       "      <th>CPS.TGM:CYCLE</th>\n",
       "      <th>CPS.TGM:DEST</th>\n",
       "      <th>CPS.TGM:DEST2</th>\n",
       "      <th>CPS.TGM:DURN</th>\n",
       "      <th>CPS.TGM:HARMN</th>\n",
       "      <th>CPS.TGM:MISC</th>\n",
       "      <th>CPS.TGM:MISC_A</th>\n",
       "      <th>CPS.TGM:PARTY</th>\n",
       "      <th>CPS.TGM:SCNUM</th>\n",
       "      <th>CPS.TGM:SCTAG</th>\n",
       "      <th>CPS.TGM:SPCON</th>\n",
       "      <th>CPS.TGM:USER</th>\n",
       "      <th>PE.TPS15.359.CONTROLLER:ANGLE</th>\n",
       "      <th>PE.TPS15.359.CONTROLLER:DS_POS</th>\n",
       "      <th>PE.TPS15.359.CONTROLLER:STATE</th>\n",
       "      <th>PE.TPS15.359.CONTROLLER:US_POS</th>\n",
       "    </tr>\n",
       "  </thead>\n",
       "  <tbody>\n",
       "  </tbody>\n",
       "</table>\n",
       "</div>"
      ],
      "text/plain": [
       "Empty DataFrame\n",
       "Columns: [CPS.TGM:BATCH, CPS.TGM:BEAMID, CPS.TGM:BPNM, CPS.TGM:CYCLE, CPS.TGM:DEST, CPS.TGM:DEST2, CPS.TGM:DURN, CPS.TGM:HARMN, CPS.TGM:MISC, CPS.TGM:MISC_A, CPS.TGM:PARTY, CPS.TGM:SCNUM, CPS.TGM:SCTAG, CPS.TGM:SPCON, CPS.TGM:USER, PE.TPS15.359.CONTROLLER:ANGLE, PE.TPS15.359.CONTROLLER:DS_POS, PE.TPS15.359.CONTROLLER:STATE, PE.TPS15.359.CONTROLLER:US_POS]\n",
       "Index: []"
      ]
     },
     "execution_count": 11,
     "metadata": {},
     "output_type": "execute_result"
    }
   ],
   "source": [
    "# extract between time\n",
    "rawDF.between_time('14:02','14:03')"
   ]
  },
  {
   "cell_type": "markdown",
   "metadata": {},
   "source": [
    "## Summary\n",
    "The pandas dateframe (DF) are a very flexible data type for postprocessing CALS data. They comes with a rich asset of methods and a very active community.\n",
    "Think the DF as LEGO: play with them, merge and contatenate them. Keep well separated the raw DF (extracted from CALS), the postprocessing methods and the postrprocessed DF.\n",
    "NB: numpy is of course more performant of pandas DF, but I tend to buy flexibility with performace."
   ]
  },
  {
   "cell_type": "markdown",
   "metadata": {},
   "source": [
    "<hr style=\"border-top-width: 4px; border-top-color: #34609b;\">\n",
    "\n",
    "# Example 2\n",
    "\n",
    "Let us consider now another user case. We would like to extract the list of the cycles following TOF in the PS in the last 10 min. We will start extracting the TOF cycle and from that DF create a new dataframe. This is an example of cycleStamp arithmetic."
   ]
  },
  {
   "cell_type": "code",
   "execution_count": 12,
   "metadata": {
    "collapsed": false
   },
   "outputs": [
    {
     "data": {
      "text/html": [
       "<div>\n",
       "<table border=\"1\" class=\"dataframe\">\n",
       "  <thead>\n",
       "    <tr style=\"text-align: right;\">\n",
       "      <th></th>\n",
       "      <th>CPS.TGM:USER</th>\n",
       "    </tr>\n",
       "  </thead>\n",
       "  <tbody>\n",
       "    <tr>\n",
       "      <th>2017-07-18 11:02:31.900</th>\n",
       "      <td>TOF</td>\n",
       "    </tr>\n",
       "    <tr>\n",
       "      <th>2017-07-18 11:02:35.500</th>\n",
       "      <td>TOF</td>\n",
       "    </tr>\n",
       "    <tr>\n",
       "      <th>2017-07-18 11:02:47.500</th>\n",
       "      <td>TOF</td>\n",
       "    </tr>\n",
       "    <tr>\n",
       "      <th>2017-07-18 11:03:05.500</th>\n",
       "      <td>TOF</td>\n",
       "    </tr>\n",
       "    <tr>\n",
       "      <th>2017-07-18 11:03:10.300</th>\n",
       "      <td>TOF</td>\n",
       "    </tr>\n",
       "  </tbody>\n",
       "</table>\n",
       "</div>"
      ],
      "text/plain": [
       "                        CPS.TGM:USER\n",
       "2017-07-18 11:02:31.900          TOF\n",
       "2017-07-18 11:02:35.500          TOF\n",
       "2017-07-18 11:02:47.500          TOF\n",
       "2017-07-18 11:03:05.500          TOF\n",
       "2017-07-18 11:03:10.300          TOF"
      ]
     },
     "execution_count": 12,
     "metadata": {},
     "output_type": "execute_result"
    }
   ],
   "source": [
    "CPSDF=myToolbox.cals2pnd(['CPS.TGM:USER'],\n",
    "                         myToolbox.time_1_hour_ago(hours=1./6.),\n",
    "                         myToolbox.time_now(),fundamental='%TOF')\n",
    "CPSDF.head()"
   ]
  },
  {
   "cell_type": "code",
   "execution_count": 16,
   "metadata": {
    "collapsed": false
   },
   "outputs": [
    {
     "data": {
      "text/html": [
       "<div>\n",
       "<table border=\"1\" class=\"dataframe\">\n",
       "  <thead>\n",
       "    <tr style=\"text-align: right;\">\n",
       "      <th></th>\n",
       "      <th>CPS.TGM:USER</th>\n",
       "    </tr>\n",
       "  </thead>\n",
       "  <tbody>\n",
       "    <tr>\n",
       "      <th>2017-07-18 11:02:33.100</th>\n",
       "      <td>AD</td>\n",
       "    </tr>\n",
       "    <tr>\n",
       "      <th>2017-07-18 11:02:36.700</th>\n",
       "      <td>EAST2</td>\n",
       "    </tr>\n",
       "    <tr>\n",
       "      <th>2017-07-18 11:02:48.700</th>\n",
       "      <td>LHC1</td>\n",
       "    </tr>\n",
       "    <tr>\n",
       "      <th>2017-07-18 11:03:06.700</th>\n",
       "      <td>MD7</td>\n",
       "    </tr>\n",
       "    <tr>\n",
       "      <th>2017-07-18 11:03:11.500</th>\n",
       "      <td>EAST2</td>\n",
       "    </tr>\n",
       "  </tbody>\n",
       "</table>\n",
       "</div>"
      ],
      "text/plain": [
       "                        CPS.TGM:USER\n",
       "2017-07-18 11:02:33.100           AD\n",
       "2017-07-18 11:02:36.700        EAST2\n",
       "2017-07-18 11:02:48.700         LHC1\n",
       "2017-07-18 11:03:06.700          MD7\n",
       "2017-07-18 11:03:11.500        EAST2"
      ]
     },
     "execution_count": 16,
     "metadata": {},
     "output_type": "execute_result"
    }
   ],
   "source": [
    "# the important method to use is indexesFromCALS\n",
    "cycleAfterDF=myToolbox.indexesFromCALS(CPSDF.index+datetime.timedelta(seconds=1.2),CPSDF.columns)\n",
    "cycleAfterDF.head()"
   ]
  },
  {
   "cell_type": "markdown",
   "metadata": {},
   "source": [
    "## Summary\n",
    "\n",
    "The **indexesFromCALS** method gives a great flexibility to reshuffle CALS data. For teh moment this method is not very fast: it is cycling on the rows of the DF, in future perhaps could be improved by using a primitive from CALS.\n"
   ]
  },
  {
   "cell_type": "markdown",
   "metadata": {},
   "source": [
    "<hr style=\"border-top-width: 4px; border-top-color: #34609b;\">\n",
    "\n",
    "# Example 3\n",
    "\n",
    "Let us consider now another user case. We would like to extract the list of the cyclestamp and some basic variable from MTE cycles along the injector chains. This is an example of cycleStamp arithmetic. We have to remember that the offeset between teh C0 time of the PSB, PS and SPS is 635 ms."
   ]
  },
  {
   "cell_type": "code",
   "execution_count": 27,
   "metadata": {
    "collapsed": false
   },
   "outputs": [],
   "source": [
    "CPSDF=myToolbox.cals2pnd(['CPS.TGM:USER','CPS.TGM:BATCH','PR.DCAFTINJ_1:INTENSITY'],myToolbox.time_1_hour_ago(hours=1./6.),myToolbox.time_now(),fundamental='%MTE%')"
   ]
  },
  {
   "cell_type": "code",
   "execution_count": 28,
   "metadata": {
    "collapsed": false,
    "scrolled": true
   },
   "outputs": [],
   "source": [
    "firstBatch=CPSDF['CPS.TGM:BATCH']==1\n",
    "SPSDF=myToolbox.indexesFromCALS(CPSDF[firstBatch].index+datetime.timedelta(seconds=0.635), ['SPS.TGM:USER'])\n",
    "PSBDF=myToolbox.indexesFromCALS(CPSDF.index-datetime.timedelta(seconds=0.635), ['PSB.TGM:USER']+log.search('%_BCT_ACC_INTENSITY'))"
   ]
  },
  {
   "cell_type": "code",
   "execution_count": 40,
   "metadata": {
    "collapsed": false
   },
   "outputs": [
    {
     "name": "stdout",
     "output_type": "stream",
     "text": [
      "==================================\n",
      "PSB\n",
      "2017-07-18 11:15:44.465    SFTPRO1\n",
      "2017-07-18 11:15:45.665    SFTPRO1\n",
      "2017-07-18 11:16:04.865    SFTPRO1\n",
      "2017-07-18 11:16:06.065    SFTPRO1\n",
      "Name: PSB.TGM:USER, dtype: object\n",
      "==================================\n",
      "CPS\n",
      "2017-07-18 11:15:45.100    SFTPRO1\n",
      "2017-07-18 11:15:46.300    SFTPRO1\n",
      "2017-07-18 11:16:05.500    SFTPRO1\n",
      "2017-07-18 11:16:06.700    SFTPRO1\n",
      "Name: CPS.TGM:USER, dtype: object\n",
      "==================================\n",
      "SPS\n",
      "2017-07-18 11:15:45.735    SFTPRO2\n",
      "2017-07-18 11:16:06.135    SFTPRO2\n",
      "Name: SPS.TGM:USER, dtype: object\n"
     ]
    }
   ],
   "source": [
    "print('==================================')\n",
    "print('PSB')\n",
    "print(PSBDF['PSB.TGM:USER'].head(4))\n",
    "print('==================================')\n",
    "print('CPS')\n",
    "print(CPSDF['CPS.TGM:USER'].head(4))\n",
    "print('==================================')\n",
    "print('SPS')\n",
    "print(SPSDF['SPS.TGM:USER'].head(2))"
   ]
  },
  {
   "cell_type": "code",
   "execution_count": 79,
   "metadata": {
    "collapsed": false
   },
   "outputs": [
    {
     "data": {
      "text/html": [
       "<div>\n",
       "<table border=\"1\" class=\"dataframe\">\n",
       "  <thead>\n",
       "    <tr style=\"text-align: right;\">\n",
       "      <th></th>\n",
       "      <th>Total Intensity</th>\n",
       "    </tr>\n",
       "  </thead>\n",
       "  <tbody>\n",
       "    <tr>\n",
       "      <th>2017-07-18 11:15:44.465</th>\n",
       "      <td>1561.90064</td>\n",
       "    </tr>\n",
       "    <tr>\n",
       "      <th>2017-07-18 11:15:45.665</th>\n",
       "      <td>1559.17852</td>\n",
       "    </tr>\n",
       "    <tr>\n",
       "      <th>2017-07-18 11:16:04.865</th>\n",
       "      <td>1569.70261</td>\n",
       "    </tr>\n",
       "    <tr>\n",
       "      <th>2017-07-18 11:16:06.065</th>\n",
       "      <td>1564.50428</td>\n",
       "    </tr>\n",
       "    <tr>\n",
       "      <th>2017-07-18 11:16:22.865</th>\n",
       "      <td>1598.07669</td>\n",
       "    </tr>\n",
       "  </tbody>\n",
       "</table>\n",
       "</div>"
      ],
      "text/plain": [
       "                         Total Intensity\n",
       "2017-07-18 11:15:44.465       1561.90064\n",
       "2017-07-18 11:15:45.665       1559.17852\n",
       "2017-07-18 11:16:04.865       1569.70261\n",
       "2017-07-18 11:16:06.065       1564.50428\n",
       "2017-07-18 11:16:22.865       1598.07669"
      ]
     },
     "execution_count": 79,
     "metadata": {},
     "output_type": "execute_result"
    }
   ],
   "source": [
    "postPSBDF=pnd.DataFrame()\n",
    "# note the use of the filtering with regular expression and the sum done on the rows (axis=1)\n",
    "postPSBDF['Total Intensity']=PSBDF.filter(regex='BR*').sum(axis=1)\n",
    "postPSBDF.head()"
   ]
  },
  {
   "cell_type": "code",
   "execution_count": 78,
   "metadata": {
    "collapsed": false
   },
   "outputs": [
    {
     "data": {
      "text/plain": [
       "datetime.datetime(2017, 7, 18, 11, 15, 45, 99997)"
      ]
     },
     "execution_count": 78,
     "metadata": {},
     "output_type": "execute_result"
    },
    {
     "data": {
      "image/png": "[encoded data removed]",
      "text/plain": [
       "<matplotlib.figure.Figure at 0x7fb0b27fcfd0>"
      ]
     },
     "metadata": {},
     "output_type": "display_data"
    }
   ],
   "source": [
    "postCPSDF=pnd.DataFrame()\n",
    "# we are now building a series using data from different DF and adopting the indexing (cycleStamp) from PS.\n",
    "postCPSDF['transmission']=pnd.Series(CPSDF['PR.DCAFTINJ_1:INTENSITY'].values/postPSBDF['Total Intensity'].values,index=CPSDF.index)\n",
    "plt.plot(postCPSDF['transmission'])\n",
    "myToolbox.setXlabel(ax=plt.gca(), hours=1/30.)"
   ]
  },
  {
   "cell_type": "markdown",
   "metadata": {},
   "source": [
    "## Summary\n",
    "\n",
    "We have now the basic tools to monitor the beam performance across the CERN accelerator complex.\n"
   ]
  },
  {
   "cell_type": "markdown",
   "metadata": {},
   "source": [
    "<hr style=\"border-top-width: 4px; border-top-color: #34609b;\">\n",
    "\n",
    "# APPENDIX A: Offset between the machines\n",
    "\n",
    "There are 635 ms of delay between the C0 of PS and the C0 of PSB.\n",
    "\n",
    "There are 635 ms of delay between the C0 of SPS and the C0 of PS.\n",
    "\n",
    "See below for a verification. This allows to make an simple aritmetic before the different cycles."
   ]
  },
  {
   "cell_type": "code",
   "execution_count": 120,
   "metadata": {
    "collapsed": false
   },
   "outputs": [
    {
     "data": {
      "text/html": [
       "<div>\n",
       "<table border=\"1\" class=\"dataframe\">\n",
       "  <thead>\n",
       "    <tr style=\"text-align: right;\">\n",
       "      <th></th>\n",
       "      <th>SPS.TGM:DDEST</th>\n",
       "      <th>SPS.TGM:SCNUM</th>\n",
       "      <th>SPS.TGM:BEAMID</th>\n",
       "      <th>SPS.TGM:USER</th>\n",
       "    </tr>\n",
       "  </thead>\n",
       "  <tbody>\n",
       "    <tr>\n",
       "      <th>2017-07-18 10:29:22.935</th>\n",
       "      <td>SPS_DUMP</td>\n",
       "      <td>NaN</td>\n",
       "      <td>59150.0</td>\n",
       "      <td>SFTPRO2</td>\n",
       "    </tr>\n",
       "    <tr>\n",
       "      <th>2017-07-18 10:29:33.735</th>\n",
       "      <td>SPS_DUMP</td>\n",
       "      <td>NaN</td>\n",
       "      <td>58568.0</td>\n",
       "      <td>LHC2</td>\n",
       "    </tr>\n",
       "    <tr>\n",
       "      <th>2017-07-18 10:29:40.935</th>\n",
       "      <td>SPS_DUMP</td>\n",
       "      <td>1.0</td>\n",
       "      <td>59150.0</td>\n",
       "      <td>SFTPRO2</td>\n",
       "    </tr>\n",
       "    <tr>\n",
       "      <th>2017-07-18 10:29:51.735</th>\n",
       "      <td>SPS_DUMP</td>\n",
       "      <td>NaN</td>\n",
       "      <td>41886.0</td>\n",
       "      <td>LHC3</td>\n",
       "    </tr>\n",
       "    <tr>\n",
       "      <th>2017-07-18 10:30:01.335</th>\n",
       "      <td>SPS_DUMP</td>\n",
       "      <td>NaN</td>\n",
       "      <td>59150.0</td>\n",
       "      <td>SFTPRO2</td>\n",
       "    </tr>\n",
       "    <tr>\n",
       "      <th>2017-07-18 10:30:12.135</th>\n",
       "      <td>SPS_DUMP</td>\n",
       "      <td>NaN</td>\n",
       "      <td>58568.0</td>\n",
       "      <td>LHC2</td>\n",
       "    </tr>\n",
       "    <tr>\n",
       "      <th>2017-07-18 10:30:19.335</th>\n",
       "      <td>SPS_DUMP</td>\n",
       "      <td>2.0</td>\n",
       "      <td>59150.0</td>\n",
       "      <td>SFTPRO2</td>\n",
       "    </tr>\n",
       "    <tr>\n",
       "      <th>2017-07-18 10:30:30.135</th>\n",
       "      <td>SPS_DUMP</td>\n",
       "      <td>NaN</td>\n",
       "      <td>41886.0</td>\n",
       "      <td>LHC3</td>\n",
       "    </tr>\n",
       "    <tr>\n",
       "      <th>2017-07-18 10:30:39.735</th>\n",
       "      <td>SPS_DUMP</td>\n",
       "      <td>NaN</td>\n",
       "      <td>59150.0</td>\n",
       "      <td>SFTPRO2</td>\n",
       "    </tr>\n",
       "    <tr>\n",
       "      <th>2017-07-18 10:30:50.535</th>\n",
       "      <td>SPS_DUMP</td>\n",
       "      <td>NaN</td>\n",
       "      <td>58568.0</td>\n",
       "      <td>LHC2</td>\n",
       "    </tr>\n",
       "  </tbody>\n",
       "</table>\n",
       "</div>"
      ],
      "text/plain": [
       "                        SPS.TGM:DDEST  SPS.TGM:SCNUM  SPS.TGM:BEAMID  \\\n",
       "2017-07-18 10:29:22.935      SPS_DUMP            NaN         59150.0   \n",
       "2017-07-18 10:29:33.735      SPS_DUMP            NaN         58568.0   \n",
       "2017-07-18 10:29:40.935      SPS_DUMP            1.0         59150.0   \n",
       "2017-07-18 10:29:51.735      SPS_DUMP            NaN         41886.0   \n",
       "2017-07-18 10:30:01.335      SPS_DUMP            NaN         59150.0   \n",
       "2017-07-18 10:30:12.135      SPS_DUMP            NaN         58568.0   \n",
       "2017-07-18 10:30:19.335      SPS_DUMP            2.0         59150.0   \n",
       "2017-07-18 10:30:30.135      SPS_DUMP            NaN         41886.0   \n",
       "2017-07-18 10:30:39.735      SPS_DUMP            NaN         59150.0   \n",
       "2017-07-18 10:30:50.535      SPS_DUMP            NaN         58568.0   \n",
       "\n",
       "                        SPS.TGM:USER  \n",
       "2017-07-18 10:29:22.935      SFTPRO2  \n",
       "2017-07-18 10:29:33.735         LHC2  \n",
       "2017-07-18 10:29:40.935      SFTPRO2  \n",
       "2017-07-18 10:29:51.735         LHC3  \n",
       "2017-07-18 10:30:01.335      SFTPRO2  \n",
       "2017-07-18 10:30:12.135         LHC2  \n",
       "2017-07-18 10:30:19.335      SFTPRO2  \n",
       "2017-07-18 10:30:30.135         LHC3  \n",
       "2017-07-18 10:30:39.735      SFTPRO2  \n",
       "2017-07-18 10:30:50.535         LHC2  "
      ]
     },
     "execution_count": 120,
     "metadata": {},
     "output_type": "execute_result"
    }
   ],
   "source": [
    "t1=myToolbox.time_1_hour_ago(hours=.1)\n",
    "t2=myToolbox.time_now()\n",
    "CPS=myToolbox.cals2pnd(log.search('CPS.TGM%'),t1,t2)\n",
    "PSB=myToolbox.cals2pnd(log.search('PSB.TGM%'),t1,t2)\n",
    "SPS=myToolbox.cals2pnd(log.search('SPS.TGM%'),t1,t2)\n",
    "SPS.head(10)"
   ]
  },
  {
   "cell_type": "code",
   "execution_count": 122,
   "metadata": {
    "collapsed": false
   },
   "outputs": [
    {
     "data": {
      "text/html": [
       "<div>\n",
       "<table border=\"1\" class=\"dataframe\">\n",
       "  <thead>\n",
       "    <tr style=\"text-align: right;\">\n",
       "      <th></th>\n",
       "      <th>PSB.TGM:DEST_R1</th>\n",
       "      <th>PSB.TGM:DEST_R3</th>\n",
       "      <th>PSB.TGM:DEST_R2</th>\n",
       "      <th>PSB.TGM:BPNM</th>\n",
       "      <th>PSB.TGM:DEST_R4</th>\n",
       "      <th>PSB.TGM:DEST_G</th>\n",
       "      <th>PSB.TGM:COMLN</th>\n",
       "      <th>PSB.TGM:SCNUM</th>\n",
       "      <th>PSB.TGM:DEST</th>\n",
       "      <th>PSB.TGM:HARMN</th>\n",
       "      <th>PSB.TGM:SPCON</th>\n",
       "      <th>PSB.TGM:BEAMID</th>\n",
       "      <th>PSB.TGM:SCTAG</th>\n",
       "      <th>PSB.TGM:BATCH</th>\n",
       "      <th>PSB.TGM:USER</th>\n",
       "      <th>PSB.TGM:PARTY</th>\n",
       "      <th>PSB.TGM:LIN2D</th>\n",
       "    </tr>\n",
       "  </thead>\n",
       "  <tbody>\n",
       "    <tr>\n",
       "      <th>2017-07-18 10:29:39.665</th>\n",
       "      <td>SPS_DUMP</td>\n",
       "      <td>SPS_DUMP</td>\n",
       "      <td>SPS_DUMP</td>\n",
       "      <td>1.0</td>\n",
       "      <td>SPS_DUMP</td>\n",
       "      <td>SPS_DUMP</td>\n",
       "      <td>[NO_LNDMP]</td>\n",
       "      <td>1.0</td>\n",
       "      <td>PS</td>\n",
       "      <td>NaN</td>\n",
       "      <td>[NEWSC]</td>\n",
       "      <td>59150.0</td>\n",
       "      <td>960.0</td>\n",
       "      <td>1.0</td>\n",
       "      <td>SFTPRO1</td>\n",
       "      <td>PROTON</td>\n",
       "      <td>PSB</td>\n",
       "    </tr>\n",
       "  </tbody>\n",
       "</table>\n",
       "</div>"
      ],
      "text/plain": [
       "                        PSB.TGM:DEST_R1 PSB.TGM:DEST_R3 PSB.TGM:DEST_R2  \\\n",
       "2017-07-18 10:29:39.665        SPS_DUMP        SPS_DUMP        SPS_DUMP   \n",
       "\n",
       "                         PSB.TGM:BPNM PSB.TGM:DEST_R4 PSB.TGM:DEST_G  \\\n",
       "2017-07-18 10:29:39.665           1.0        SPS_DUMP       SPS_DUMP   \n",
       "\n",
       "                        PSB.TGM:COMLN  PSB.TGM:SCNUM PSB.TGM:DEST  \\\n",
       "2017-07-18 10:29:39.665    [NO_LNDMP]            1.0           PS   \n",
       "\n",
       "                         PSB.TGM:HARMN PSB.TGM:SPCON  PSB.TGM:BEAMID  \\\n",
       "2017-07-18 10:29:39.665            NaN       [NEWSC]         59150.0   \n",
       "\n",
       "                         PSB.TGM:SCTAG  PSB.TGM:BATCH PSB.TGM:USER  \\\n",
       "2017-07-18 10:29:39.665          960.0            1.0      SFTPRO1   \n",
       "\n",
       "                        PSB.TGM:PARTY PSB.TGM:LIN2D  \n",
       "2017-07-18 10:29:39.665        PROTON           PSB  "
      ]
     },
     "execution_count": 122,
     "metadata": {},
     "output_type": "execute_result"
    }
   ],
   "source": [
    "SCNUM=1\n",
    "PSB[PSB['PSB.TGM:SCNUM']==SCNUM].head(1)"
   ]
  },
  {
   "cell_type": "code",
   "execution_count": 123,
   "metadata": {
    "collapsed": false
   },
   "outputs": [
    {
     "data": {
      "text/html": [
       "<div>\n",
       "<table border=\"1\" class=\"dataframe\">\n",
       "  <thead>\n",
       "    <tr style=\"text-align: right;\">\n",
       "      <th></th>\n",
       "      <th>CPS.TGM:MISC</th>\n",
       "      <th>CPS.TGM:CYCLE</th>\n",
       "      <th>CPS.TGM:DURN</th>\n",
       "      <th>CPS.TGM:BATCH</th>\n",
       "      <th>CPS.TGM:DEST</th>\n",
       "      <th>CPS.TGM:HARMN</th>\n",
       "      <th>CPS.TGM:SCTAG</th>\n",
       "      <th>CPS.TGM:USER</th>\n",
       "      <th>CPS.TGM:SPCON</th>\n",
       "      <th>CPS.TGM:SCNUM</th>\n",
       "      <th>CPS.TGM:BEAMID</th>\n",
       "      <th>CPS.TGM:BPNM</th>\n",
       "      <th>CPS.TGM:PARTY</th>\n",
       "      <th>CPS.TGM:MISC_A</th>\n",
       "      <th>CPS.TGM:DEST2</th>\n",
       "    </tr>\n",
       "  </thead>\n",
       "  <tbody>\n",
       "    <tr>\n",
       "      <th>2017-07-18 10:29:40.300</th>\n",
       "      <td>[MT_EJ16]</td>\n",
       "      <td>1.0</td>\n",
       "      <td>1.0</td>\n",
       "      <td>1.0</td>\n",
       "      <td>SPS_DUMP</td>\n",
       "      <td>NaN</td>\n",
       "      <td>960.0</td>\n",
       "      <td>SFTPRO1</td>\n",
       "      <td>[NEW_SC]</td>\n",
       "      <td>1.0</td>\n",
       "      <td>59150.0</td>\n",
       "      <td>1.0</td>\n",
       "      <td>PROTON</td>\n",
       "      <td>[MDBEAM]</td>\n",
       "      <td>NONE</td>\n",
       "    </tr>\n",
       "  </tbody>\n",
       "</table>\n",
       "</div>"
      ],
      "text/plain": [
       "                        CPS.TGM:MISC  CPS.TGM:CYCLE  CPS.TGM:DURN  \\\n",
       "2017-07-18 10:29:40.300    [MT_EJ16]            1.0           1.0   \n",
       "\n",
       "                         CPS.TGM:BATCH CPS.TGM:DEST  CPS.TGM:HARMN  \\\n",
       "2017-07-18 10:29:40.300            1.0     SPS_DUMP            NaN   \n",
       "\n",
       "                         CPS.TGM:SCTAG CPS.TGM:USER CPS.TGM:SPCON  \\\n",
       "2017-07-18 10:29:40.300          960.0      SFTPRO1      [NEW_SC]   \n",
       "\n",
       "                         CPS.TGM:SCNUM  CPS.TGM:BEAMID  CPS.TGM:BPNM  \\\n",
       "2017-07-18 10:29:40.300            1.0         59150.0           1.0   \n",
       "\n",
       "                        CPS.TGM:PARTY CPS.TGM:MISC_A CPS.TGM:DEST2  \n",
       "2017-07-18 10:29:40.300        PROTON       [MDBEAM]          NONE  "
      ]
     },
     "execution_count": 123,
     "metadata": {},
     "output_type": "execute_result"
    }
   ],
   "source": [
    "CPS[CPS['CPS.TGM:SCNUM']==SCNUM].head(1)"
   ]
  },
  {
   "cell_type": "code",
   "execution_count": 124,
   "metadata": {
    "collapsed": false
   },
   "outputs": [
    {
     "data": {
      "text/html": [
       "<div>\n",
       "<table border=\"1\" class=\"dataframe\">\n",
       "  <thead>\n",
       "    <tr style=\"text-align: right;\">\n",
       "      <th></th>\n",
       "      <th>SPS.TGM:DDEST</th>\n",
       "      <th>SPS.TGM:SCNUM</th>\n",
       "      <th>SPS.TGM:BEAMID</th>\n",
       "      <th>SPS.TGM:USER</th>\n",
       "    </tr>\n",
       "  </thead>\n",
       "  <tbody>\n",
       "    <tr>\n",
       "      <th>2017-07-18 10:29:40.935</th>\n",
       "      <td>SPS_DUMP</td>\n",
       "      <td>1.0</td>\n",
       "      <td>59150.0</td>\n",
       "      <td>SFTPRO2</td>\n",
       "    </tr>\n",
       "  </tbody>\n",
       "</table>\n",
       "</div>"
      ],
      "text/plain": [
       "                        SPS.TGM:DDEST  SPS.TGM:SCNUM  SPS.TGM:BEAMID  \\\n",
       "2017-07-18 10:29:40.935      SPS_DUMP            1.0         59150.0   \n",
       "\n",
       "                        SPS.TGM:USER  \n",
       "2017-07-18 10:29:40.935      SFTPRO2  "
      ]
     },
     "execution_count": 124,
     "metadata": {},
     "output_type": "execute_result"
    }
   ],
   "source": [
    "SPS[SPS['SPS.TGM:SCNUM']==SCNUM]"
   ]
  },
  {
   "cell_type": "code",
   "execution_count": 125,
   "metadata": {
    "collapsed": false
   },
   "outputs": [
    {
     "data": {
      "text/plain": [
       "Timedelta('0 days 00:00:00.635000')"
      ]
     },
     "execution_count": 125,
     "metadata": {},
     "output_type": "execute_result"
    }
   ],
   "source": [
    "CPS[CPS['CPS.TGM:SCNUM']==SCNUM].index[0]-PSB[PSB['PSB.TGM:SCNUM']==SCNUM].index[0]"
   ]
  },
  {
   "cell_type": "code",
   "execution_count": 126,
   "metadata": {
    "collapsed": false
   },
   "outputs": [
    {
     "data": {
      "text/plain": [
       "Timedelta('0 days 00:00:00.635000')"
      ]
     },
     "execution_count": 126,
     "metadata": {},
     "output_type": "execute_result"
    }
   ],
   "source": [
    "SPS[SPS['SPS.TGM:SCNUM']==SCNUM].index[0]-CPS[CPS['CPS.TGM:SCNUM']==SCNUM].index[0]"
   ]
  },
  {
   "cell_type": "markdown",
   "metadata": {},
   "source": [
    "<hr style=\"border-top-width: 4px; border-top-color: #34609b;\">\n",
    "# Appendix B: Retrieving data from Matlab\n",
    "Not all the machine data are recorded in CALS. For getting and recording the data not present in CALS one can automatically subscribe the data with JAPC (https://wikis.cern.ch/display/ST/Libraries+Available).\n",
    "I am using a lot Matlab/JAPC interface but I would like to migrate to the Python/JAPC solution.\n",
    "In the following we assume you have some matlab files in a folder and you want to import them. As you will see the approach is very similar to the CALS dataframe."
   ]
  },
  {
   "cell_type": "code",
   "execution_count": 80,
   "metadata": {
    "collapsed": false
   },
   "outputs": [
    {
     "data": {
      "text/plain": [
       "['/eos/user/s/sterbini/MD_ANALYSIS/2016/MD1949/2016.11.17/Monitor1/I250/2016.11.17.11.52.33.826.mat',\n",
       " '/eos/user/s/sterbini/MD_ANALYSIS/2016/MD1949/2016.11.17/Monitor1/I250/2016.11.17.11.53.19.419.mat',\n",
       " '/eos/user/s/sterbini/MD_ANALYSIS/2016/MD1949/2016.11.17/Monitor1/I250/2016.11.17.11.54.05.035.mat',\n",
       " '/eos/user/s/sterbini/MD_ANALYSIS/2016/MD1949/2016.11.17/Monitor1/I250/2016.11.17.11.54.50.626.mat',\n",
       " '/eos/user/s/sterbini/MD_ANALYSIS/2016/MD1949/2016.11.17/Monitor1/I250/2016.11.17.11.55.36.228.mat',\n",
       " '/eos/user/s/sterbini/MD_ANALYSIS/2016/MD1949/2016.11.17/Monitor1/I250/2016.11.17.11.56.21.835.mat',\n",
       " '/eos/user/s/sterbini/MD_ANALYSIS/2016/MD1949/2016.11.17/Monitor1/I250/2016.11.17.11.57.07.427.mat',\n",
       " '/eos/user/s/sterbini/MD_ANALYSIS/2016/MD1949/2016.11.17/Monitor1/I250/2016.11.17.11.57.53.027.mat',\n",
       " '/eos/user/s/sterbini/MD_ANALYSIS/2016/MD1949/2016.11.17/Monitor1/I250/2016.11.17.11.58.38.627.mat',\n",
       " '/eos/user/s/sterbini/MD_ANALYSIS/2016/MD1949/2016.11.17/Monitor1/I250/2016.11.17.11.59.24.230.mat',\n",
       " '/eos/user/s/sterbini/MD_ANALYSIS/2016/MD1949/2016.11.17/Monitor1/I250/2016.11.17.12.00.09.825.mat',\n",
       " '/eos/user/s/sterbini/MD_ANALYSIS/2016/MD1949/2016.11.17/Monitor1/I250/2016.11.17.12.00.55.434.mat',\n",
       " '/eos/user/s/sterbini/MD_ANALYSIS/2016/MD1949/2016.11.17/Monitor1/I250/2016.11.17.12.01.41.047.mat',\n",
       " '/eos/user/s/sterbini/MD_ANALYSIS/2016/MD1949/2016.11.17/Monitor1/I250/2016.11.17.12.02.26.633.mat',\n",
       " '/eos/user/s/sterbini/MD_ANALYSIS/2016/MD1949/2016.11.17/Monitor1/I250/2016.11.17.12.03.12.252.mat',\n",
       " '/eos/user/s/sterbini/MD_ANALYSIS/2016/MD1949/2016.11.17/Monitor1/I250/2016.11.17.12.03.57.835.mat',\n",
       " '/eos/user/s/sterbini/MD_ANALYSIS/2016/MD1949/2016.11.17/Monitor1/I250/2016.11.17.12.04.43.400.mat',\n",
       " '/eos/user/s/sterbini/MD_ANALYSIS/2016/MD1949/2016.11.17/Monitor1/I250/2016.11.17.12.05.29.027.mat',\n",
       " '/eos/user/s/sterbini/MD_ANALYSIS/2016/MD1949/2016.11.17/Monitor1/I250/2016.11.17.12.06.14.628.mat',\n",
       " '/eos/user/s/sterbini/MD_ANALYSIS/2016/MD1949/2016.11.17/Monitor1/I250/2016.11.17.12.07.00.245.mat',\n",
       " '/eos/user/s/sterbini/MD_ANALYSIS/2016/MD1949/2016.11.17/Monitor1/I250/2016.11.17.12.07.45.827.mat',\n",
       " '/eos/user/s/sterbini/MD_ANALYSIS/2016/MD1949/2016.11.17/Monitor1/I250/2016.11.17.12.08.31.435.mat',\n",
       " '/eos/user/s/sterbini/MD_ANALYSIS/2016/MD1949/2016.11.17/Monitor1/I250/2016.11.17.12.09.17.019.mat',\n",
       " '/eos/user/s/sterbini/MD_ANALYSIS/2016/MD1949/2016.11.17/Monitor1/I250/2016.11.17.12.10.02.652.mat',\n",
       " '/eos/user/s/sterbini/MD_ANALYSIS/2016/MD1949/2016.11.17/Monitor1/I250/2016.11.17.12.10.48.227.mat',\n",
       " '/eos/user/s/sterbini/MD_ANALYSIS/2016/MD1949/2016.11.17/Monitor1/I250/2016.11.17.12.11.33.831.mat',\n",
       " '/eos/user/s/sterbini/MD_ANALYSIS/2016/MD1949/2016.11.17/Monitor1/I250/2016.11.17.12.12.19.427.mat',\n",
       " '/eos/user/s/sterbini/MD_ANALYSIS/2016/MD1949/2016.11.17/Monitor1/I250/2016.11.17.12.13.05.035.mat',\n",
       " '/eos/user/s/sterbini/MD_ANALYSIS/2016/MD1949/2016.11.17/Monitor1/I250/2016.11.17.12.13.50.625.mat',\n",
       " '/eos/user/s/sterbini/MD_ANALYSIS/2016/MD1949/2016.11.17/Monitor1/I250/2016.11.17.12.14.36.213.mat',\n",
       " '/eos/user/s/sterbini/MD_ANALYSIS/2016/MD1949/2016.11.17/Monitor1/I250/2016.11.17.12.15.21.810.mat',\n",
       " '/eos/user/s/sterbini/MD_ANALYSIS/2016/MD1949/2016.11.17/Monitor1/I250/2016.11.17.12.16.07.409.mat',\n",
       " '/eos/user/s/sterbini/MD_ANALYSIS/2016/MD1949/2016.11.17/Monitor1/I250/2016.11.17.12.16.53.035.mat',\n",
       " '/eos/user/s/sterbini/MD_ANALYSIS/2016/MD1949/2016.11.17/Monitor1/I250/2016.11.17.12.17.38.621.mat',\n",
       " '/eos/user/s/sterbini/MD_ANALYSIS/2016/MD1949/2016.11.17/Monitor1/I250/2016.11.17.12.18.24.210.mat',\n",
       " '/eos/user/s/sterbini/MD_ANALYSIS/2016/MD1949/2016.11.17/Monitor1/I250/2016.11.17.12.19.09.811.mat',\n",
       " '/eos/user/s/sterbini/MD_ANALYSIS/2016/MD1949/2016.11.17/Monitor1/I250/2016.11.17.12.19.55.411.mat',\n",
       " '/eos/user/s/sterbini/MD_ANALYSIS/2016/MD1949/2016.11.17/Monitor1/I250/2016.11.17.12.20.41.017.mat']"
      ]
     },
     "execution_count": 80,
     "metadata": {},
     "output_type": "execute_result"
    }
   ],
   "source": [
    "# load all files \n",
    "myFiles=sorted(glob.glob('/eos/user/s/sterbini/MD_ANALYSIS/2016/MD1949/2016.11.17/Monitor1/I250/*mat'))\n",
    "myFiles"
   ]
  },
  {
   "cell_type": "code",
   "execution_count": 81,
   "metadata": {
    "collapsed": false
   },
   "outputs": [
    {
     "data": {
      "text/plain": [
       "(0.0, 7199.0, -0.29582977294921875, 250.23211669921875)"
      ]
     },
     "execution_count": 81,
     "metadata": {},
     "output_type": "execute_result"
    },
    {
     "data": {
      "image/png": "[encoded data removed]",
      "text/plain": [
       "<matplotlib.figure.Figure at 0x7fb0b2a5e390>"
      ]
     },
     "metadata": {},
     "output_type": "display_data"
    }
   ],
   "source": [
    "# check the content of a single file\n",
    "myFileFormat=myToolbox.japcMatlabImport(myFiles[0])\n",
    "plt.plot(myFileFormat.RPPBK_BA5_BBLR5177M.LOG_OASIS_I_MEAS.value.DATA)\n",
    "plt.plot(myFileFormat.RPPBK_BA5_BBLR5177M.LOG_OASIS_I_REF.value.DATA)\n",
    "\n",
    "plt.xlabel('time [ms]')\n",
    "plt.ylabel('I [A]')\n",
    "plt.axis('tight')"
   ]
  },
  {
   "cell_type": "code",
   "execution_count": 82,
   "metadata": {
    "collapsed": false
   },
   "outputs": [
    {
     "data": {
      "text/plain": [
       "array([u'SPS.BCTDC.41435/Acquisition', u'SPSBQSB1/Acquisition',\n",
       "       u'SPSBQSB1/SamplerAcquisition',\n",
       "       u'RPPBK.BA5.BBLR5177M/LOG.OASIS.I_REF',\n",
       "       u'RPPBK.BA5.BBLR5177M/LOG.OASIS.I_MEAS'], dtype=object)"
      ]
     },
     "execution_count": 82,
     "metadata": {},
     "output_type": "execute_result"
    }
   ],
   "source": [
    "myFileFormat.parameters"
   ]
  },
  {
   "cell_type": "code",
   "execution_count": 83,
   "metadata": {
    "collapsed": false
   },
   "outputs": [
    {
     "data": {
      "text/html": [
       "<div>\n",
       "<table border=\"1\" class=\"dataframe\">\n",
       "  <thead>\n",
       "    <tr style=\"text-align: right;\">\n",
       "      <th></th>\n",
       "      <th>cycleStamp</th>\n",
       "      <th>matlabPLS</th>\n",
       "      <th>matlabFilePath</th>\n",
       "      <th>RPPBK_BA5_BBLR5177M.LOG_OASIS_I_MEAS.value.DATA</th>\n",
       "    </tr>\n",
       "  </thead>\n",
       "  <tbody>\n",
       "    <tr>\n",
       "      <th>2016-11-17 11:52:26.535</th>\n",
       "      <td>1.479384e+18</td>\n",
       "      <td>SPS.USER.MD2</td>\n",
       "      <td>/eos/user/s/sterbini/MD_ANALYSIS/2016/MD1949/2...</td>\n",
       "      <td>[0.0566483, 0.0230789, 0.0146866, 0.0314713, 0...</td>\n",
       "    </tr>\n",
       "    <tr>\n",
       "      <th>2016-11-17 11:53:12.135</th>\n",
       "      <td>1.479384e+18</td>\n",
       "      <td>SPS.USER.MD2</td>\n",
       "      <td>/eos/user/s/sterbini/MD_ANALYSIS/2016/MD1949/2...</td>\n",
       "      <td>[0.0230789, 0.0482559, 0.0314713, 0.0314713, 0...</td>\n",
       "    </tr>\n",
       "    <tr>\n",
       "      <th>2016-11-17 11:53:57.735</th>\n",
       "      <td>1.479384e+18</td>\n",
       "      <td>SPS.USER.MD2</td>\n",
       "      <td>/eos/user/s/sterbini/MD_ANALYSIS/2016/MD1949/2...</td>\n",
       "      <td>[0.0314713, 0.0314713, 0.0314713, 0.0482559, 0...</td>\n",
       "    </tr>\n",
       "    <tr>\n",
       "      <th>2016-11-17 11:54:43.335</th>\n",
       "      <td>1.479384e+18</td>\n",
       "      <td>SPS.USER.MD2</td>\n",
       "      <td>/eos/user/s/sterbini/MD_ANALYSIS/2016/MD1949/2...</td>\n",
       "      <td>[0.0482559, 0.0482559, 0.0398636, 0.0398636, 0...</td>\n",
       "    </tr>\n",
       "    <tr>\n",
       "      <th>2016-11-17 11:55:28.935</th>\n",
       "      <td>1.479384e+18</td>\n",
       "      <td>SPS.USER.MD2</td>\n",
       "      <td>/eos/user/s/sterbini/MD_ANALYSIS/2016/MD1949/2...</td>\n",
       "      <td>[0.0482559, 0.0566483, 0.0230789, 0.0230789, 0...</td>\n",
       "    </tr>\n",
       "  </tbody>\n",
       "</table>\n",
       "</div>"
      ],
      "text/plain": [
       "                           cycleStamp     matlabPLS  \\\n",
       "2016-11-17 11:52:26.535  1.479384e+18  SPS.USER.MD2   \n",
       "2016-11-17 11:53:12.135  1.479384e+18  SPS.USER.MD2   \n",
       "2016-11-17 11:53:57.735  1.479384e+18  SPS.USER.MD2   \n",
       "2016-11-17 11:54:43.335  1.479384e+18  SPS.USER.MD2   \n",
       "2016-11-17 11:55:28.935  1.479384e+18  SPS.USER.MD2   \n",
       "\n",
       "                                                            matlabFilePath  \\\n",
       "2016-11-17 11:52:26.535  /eos/user/s/sterbini/MD_ANALYSIS/2016/MD1949/2...   \n",
       "2016-11-17 11:53:12.135  /eos/user/s/sterbini/MD_ANALYSIS/2016/MD1949/2...   \n",
       "2016-11-17 11:53:57.735  /eos/user/s/sterbini/MD_ANALYSIS/2016/MD1949/2...   \n",
       "2016-11-17 11:54:43.335  /eos/user/s/sterbini/MD_ANALYSIS/2016/MD1949/2...   \n",
       "2016-11-17 11:55:28.935  /eos/user/s/sterbini/MD_ANALYSIS/2016/MD1949/2...   \n",
       "\n",
       "                           RPPBK_BA5_BBLR5177M.LOG_OASIS_I_MEAS.value.DATA  \n",
       "2016-11-17 11:52:26.535  [0.0566483, 0.0230789, 0.0146866, 0.0314713, 0...  \n",
       "2016-11-17 11:53:12.135  [0.0230789, 0.0482559, 0.0314713, 0.0314713, 0...  \n",
       "2016-11-17 11:53:57.735  [0.0314713, 0.0314713, 0.0314713, 0.0482559, 0...  \n",
       "2016-11-17 11:54:43.335  [0.0482559, 0.0482559, 0.0398636, 0.0398636, 0...  \n",
       "2016-11-17 11:55:28.935  [0.0482559, 0.0566483, 0.0230789, 0.0230789, 0...  "
      ]
     },
     "execution_count": 83,
     "metadata": {},
     "output_type": "execute_result"
    }
   ],
   "source": [
    "# import all the selected file and variables in a dataFrame\n",
    "MD1949=myToolbox.fromMatlabToDataFrame(myFiles,['RPPBK_BA5_BBLR5177M.LOG_OASIS_I_MEAS.value.DATA'])\n",
    "MD1949.head()"
   ]
  },
  {
   "cell_type": "code",
   "execution_count": 84,
   "metadata": {
    "collapsed": false
   },
   "outputs": [
    {
     "data": {
      "text/html": [
       "<div>\n",
       "<table border=\"1\" class=\"dataframe\">\n",
       "  <thead>\n",
       "    <tr style=\"text-align: right;\">\n",
       "      <th></th>\n",
       "      <th>cycleStamp</th>\n",
       "      <th>matlabPLS</th>\n",
       "      <th>matlabFilePath</th>\n",
       "      <th>RPPBK_BA5_BBLR5177M.LOG_OASIS_I_MEAS.value.DATA</th>\n",
       "      <th>SPS_BCTDC_41435.Acquisition.value.totalIntensity</th>\n",
       "    </tr>\n",
       "  </thead>\n",
       "  <tbody>\n",
       "    <tr>\n",
       "      <th>2016-11-17 11:52:26.535</th>\n",
       "      <td>1.479384e+18</td>\n",
       "      <td>SPS.USER.MD2</td>\n",
       "      <td>/eos/user/s/sterbini/MD_ANALYSIS/2016/MD1949/2...</td>\n",
       "      <td>[0.0566483, 0.0230789, 0.0146866, 0.0314713, 0...</td>\n",
       "      <td>[1055.46, 1044.03, 1041.89, 1040.46, 1040.46, ...</td>\n",
       "    </tr>\n",
       "    <tr>\n",
       "      <th>2016-11-17 11:53:12.135</th>\n",
       "      <td>1.479384e+18</td>\n",
       "      <td>SPS.USER.MD2</td>\n",
       "      <td>/eos/user/s/sterbini/MD_ANALYSIS/2016/MD1949/2...</td>\n",
       "      <td>[0.0230789, 0.0482559, 0.0314713, 0.0314713, 0...</td>\n",
       "      <td>[1173.37, 1157.65, 1154.79, 1156.22, 1154.79, ...</td>\n",
       "    </tr>\n",
       "    <tr>\n",
       "      <th>2016-11-17 11:53:57.735</th>\n",
       "      <td>1.479384e+18</td>\n",
       "      <td>SPS.USER.MD2</td>\n",
       "      <td>/eos/user/s/sterbini/MD_ANALYSIS/2016/MD1949/2...</td>\n",
       "      <td>[0.0314713, 0.0314713, 0.0314713, 0.0482559, 0...</td>\n",
       "      <td>[1004.73, 994.009, 991.865, 990.436, 989.721, ...</td>\n",
       "    </tr>\n",
       "    <tr>\n",
       "      <th>2016-11-17 11:54:43.335</th>\n",
       "      <td>1.479384e+18</td>\n",
       "      <td>SPS.USER.MD2</td>\n",
       "      <td>/eos/user/s/sterbini/MD_ANALYSIS/2016/MD1949/2...</td>\n",
       "      <td>[0.0482559, 0.0482559, 0.0398636, 0.0398636, 0...</td>\n",
       "      <td>[1089.05, 1078.33, 1074.76, 1074.76, 1073.33, ...</td>\n",
       "    </tr>\n",
       "    <tr>\n",
       "      <th>2016-11-17 11:55:28.935</th>\n",
       "      <td>1.479384e+18</td>\n",
       "      <td>SPS.USER.MD2</td>\n",
       "      <td>/eos/user/s/sterbini/MD_ANALYSIS/2016/MD1949/2...</td>\n",
       "      <td>[0.0482559, 0.0566483, 0.0230789, 0.0230789, 0...</td>\n",
       "      <td>[931.838, 923.978, 920.405, 921.834, 920.405, ...</td>\n",
       "    </tr>\n",
       "  </tbody>\n",
       "</table>\n",
       "</div>"
      ],
      "text/plain": [
       "                           cycleStamp     matlabPLS  \\\n",
       "2016-11-17 11:52:26.535  1.479384e+18  SPS.USER.MD2   \n",
       "2016-11-17 11:53:12.135  1.479384e+18  SPS.USER.MD2   \n",
       "2016-11-17 11:53:57.735  1.479384e+18  SPS.USER.MD2   \n",
       "2016-11-17 11:54:43.335  1.479384e+18  SPS.USER.MD2   \n",
       "2016-11-17 11:55:28.935  1.479384e+18  SPS.USER.MD2   \n",
       "\n",
       "                                                            matlabFilePath  \\\n",
       "2016-11-17 11:52:26.535  /eos/user/s/sterbini/MD_ANALYSIS/2016/MD1949/2...   \n",
       "2016-11-17 11:53:12.135  /eos/user/s/sterbini/MD_ANALYSIS/2016/MD1949/2...   \n",
       "2016-11-17 11:53:57.735  /eos/user/s/sterbini/MD_ANALYSIS/2016/MD1949/2...   \n",
       "2016-11-17 11:54:43.335  /eos/user/s/sterbini/MD_ANALYSIS/2016/MD1949/2...   \n",
       "2016-11-17 11:55:28.935  /eos/user/s/sterbini/MD_ANALYSIS/2016/MD1949/2...   \n",
       "\n",
       "                           RPPBK_BA5_BBLR5177M.LOG_OASIS_I_MEAS.value.DATA  \\\n",
       "2016-11-17 11:52:26.535  [0.0566483, 0.0230789, 0.0146866, 0.0314713, 0...   \n",
       "2016-11-17 11:53:12.135  [0.0230789, 0.0482559, 0.0314713, 0.0314713, 0...   \n",
       "2016-11-17 11:53:57.735  [0.0314713, 0.0314713, 0.0314713, 0.0482559, 0...   \n",
       "2016-11-17 11:54:43.335  [0.0482559, 0.0482559, 0.0398636, 0.0398636, 0...   \n",
       "2016-11-17 11:55:28.935  [0.0482559, 0.0566483, 0.0230789, 0.0230789, 0...   \n",
       "\n",
       "                          SPS_BCTDC_41435.Acquisition.value.totalIntensity  \n",
       "2016-11-17 11:52:26.535  [1055.46, 1044.03, 1041.89, 1040.46, 1040.46, ...  \n",
       "2016-11-17 11:53:12.135  [1173.37, 1157.65, 1154.79, 1156.22, 1154.79, ...  \n",
       "2016-11-17 11:53:57.735  [1004.73, 994.009, 991.865, 990.436, 989.721, ...  \n",
       "2016-11-17 11:54:43.335  [1089.05, 1078.33, 1074.76, 1074.76, 1073.33, ...  \n",
       "2016-11-17 11:55:28.935  [931.838, 923.978, 920.405, 921.834, 920.405, ...  "
      ]
     },
     "execution_count": 84,
     "metadata": {},
     "output_type": "execute_result"
    }
   ],
   "source": [
    "# we can add in second time additional variable from Matlab files \n",
    "myToolbox.addToDataFrameFromMatlab(MD1949,['SPS_BCTDC_41435.Acquisition.value.totalIntensity'])\n",
    "MD1949.head()"
   ]
  },
  {
   "cell_type": "markdown",
   "metadata": {},
   "source": [
    "Starting from this generic data frame we can use the method describe above to complete the information using CALS data."
   ]
  }
 ],
 "metadata": {
  "kernelspec": {
   "display_name": "Python 2",
   "language": "python",
   "name": "python2"
  },
  "language_info": {
   "codemirror_mode": {
    "name": "ipython",
    "version": 2
   },
   "file_extension": ".py",
   "mimetype": "text/x-python",
   "name": "python",
   "nbconvert_exporter": "python",
   "pygments_lexer": "ipython2",
   "version": "2.7.13"
  }
 },
 "nbformat": 4,
 "nbformat_minor": 0
}
